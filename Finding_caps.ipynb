{
 "cells": [
  {
   "cell_type": "code",
   "execution_count": 12,
   "id": "cac011f7-4206-496d-91d5-adff24875339",
   "metadata": {},
   "outputs": [],
   "source": [
    "import os\n",
    "from tqdm import tqdm\n",
    "import numpy as np\n",
    "from Bio import SeqIO"
   ]
  },
  {
   "cell_type": "code",
   "execution_count": 13,
   "id": "37a03d2e-e518-4d39-b2bb-4c8acea9c492",
   "metadata": {},
   "outputs": [],
   "source": [
    "#saves sequences in fasta file as array\n",
    "def read_fasta(file_path): \n",
    "    sequences = []\n",
    "    with open(file_path, 'r') as file:\n",
    "        sequence = ''\n",
    "        for line in file:\n",
    "            if line.startswith('>'):\n",
    "                if sequence:  \n",
    "                    sequences.append(sequence)\n",
    "                    sequence = ''\n",
    "            else:\n",
    "                sequence += line.strip()  \n",
    "                \n",
    "        if sequence: \n",
    "            sequences.append(sequence)\n",
    "            \n",
    "    return sequences"
   ]
  },
  {
   "cell_type": "code",
   "execution_count": 14,
   "id": "923dd209-967b-43f3-a22e-6e596c530efa",
   "metadata": {},
   "outputs": [],
   "source": [
    "file_path = \"/Volumes/Extreme SSD/HP/Scripts/read_1.fasta\"\n",
    "sequences = read_fasta(file_path)\n",
    "names = []"
   ]
  },
  {
   "cell_type": "code",
   "execution_count": 15,
   "id": "618fe35c-1b37-4c85-8fcb-dd433a3abd25",
   "metadata": {},
   "outputs": [
    {
     "name": "stderr",
     "output_type": "stream",
     "text": [
      "177397it [00:00, 632271.37it/s]\n"
     ]
    }
   ],
   "source": [
    "#Saves names of sequences as array\n",
    "with open(file_path, \"r\") as fasta_file:\n",
    "    for record in tqdm(SeqIO.parse(fasta_file, \"fasta\")):\n",
    "        names.append(record.id)"
   ]
  },
  {
   "cell_type": "code",
   "execution_count": 16,
   "id": "51c77208-1856-4faa-afba-9a51dbe256af",
   "metadata": {},
   "outputs": [],
   "source": [
    "#Generate palindromes for cap1 and cap2 tags\n",
    "def reverse_complement_cap2(reverse_triplet):\n",
    "    complement = {'A': 'T', 'T': 'A', 'C': 'G', 'G': 'C'}\n",
    "    return ''.join(complement[n] for n in reverse_triplet)\n",
    "\n",
    "def generate_palindromes_cap2():\n",
    "    nucleotides = ['A', 'T', 'C', 'G']\n",
    "    #no_a = ['T', 'C', 'G']\n",
    "    palindromes_cap2 = []\n",
    "\n",
    "    for n1 in nucleotides:\n",
    "        for n2 in nucleotides:\n",
    "            for n3 in nucleotides:\n",
    "                triplet = n1 + n2 + n3\n",
    "                reverse_triplet = n3+n2+n1\n",
    "                palindrome = triplet + reverse_complement_cap2(reverse_triplet)\n",
    "                if (n1!=n2 or n2!=n3 or n3!=n1):\n",
    "                    palindromes_cap2.append(palindrome)\n",
    "\n",
    "    return palindromes_cap2\n",
    "\n",
    "def reverse_complement_cap1(reverse_doublet):\n",
    "    complement = {'A': 'T', 'T': 'A', 'C': 'G', 'G': 'C'}\n",
    "    return ''.join(complement[n] for n in reverse_doublet)\n",
    "\n",
    "def generate_palindromes_cap1():\n",
    "    nucleotides = ['A', 'T', 'C', 'G']\n",
    "    #no_a = ['T', 'G', 'C']\n",
    "    palindromes_cap1 = []\n",
    "\n",
    "    for n1 in nucleotides:\n",
    "        for n2 in nucleotides:\n",
    "            doublet = n1 + n2\n",
    "            reverse_doublet = n2+n1\n",
    "            palindrome = doublet + reverse_complement_cap1(reverse_doublet)\n",
    "            if n1!=n2:\n",
    "                palindromes_cap1.append(palindrome)\n",
    "\n",
    "    return palindromes_cap1\n",
    "    \n",
    "# Generate the palindromes\n",
    "palindromes_cap2 = generate_palindromes_cap2()\n",
    "palindromes_cap1 = generate_palindromes_cap1()"
   ]
  },
  {
   "cell_type": "code",
   "execution_count": 17,
   "id": "4c7f93ba-5577-44b2-b568-ed6334695315",
   "metadata": {},
   "outputs": [
    {
     "name": "stderr",
     "output_type": "stream",
     "text": [
      "100%|█████████████████████████████████████████████████████████████████████████████| 177397/177397 [00:00<00:00, 316337.97it/s]\n",
      "100%|████████████████████████████████████████████████████████████████████████████| 177397/177397 [00:00<00:00, 1132015.71it/s]\n"
     ]
    }
   ],
   "source": [
    "def match_palindrome_cap2(sequence, palindromes, result_array0, result_array1, result_array0_name, result_array1_name, name):\n",
    "    first_three_chars = sequence[:3]\n",
    "    chars_5_to_7 = sequence[4:7]\n",
    "    first_6 = sequence[:6]\n",
    "    for s in palindromes:\n",
    "        if first_three_chars == s[:3] and chars_5_to_7 == s[3:6]:\n",
    "            result_array1.append(sequence)\n",
    "            result_array1_name.append(name)\n",
    "            break\n",
    "        elif first_6 == s[:6]:\n",
    "            result_array0.append(sequence)\n",
    "            result_array0_name.append(name)\n",
    "            break\n",
    "\n",
    "        \n",
    "\n",
    "def match_palindrome_cap1(sequence, palindromes, result_array0, result_array1, result_array0_name, result_array1_name, name):\n",
    "    # Extract the first three characters and 5-7 characters of the string to check\n",
    "    first_two_chars = sequence[:2]\n",
    "    chars_4_to_5 = sequence[3:5]\n",
    "    first_4 = sequence[:4]\n",
    "    # Loop through the list of strings to find a match\n",
    "    for s in palindromes:\n",
    "        if first_two_chars == s[:2] and chars_4_to_5 == s[2:4]:\n",
    "            result_array1.append(sequence)\n",
    "            result_array1_name.append(name)\n",
    "            break\n",
    "        elif first_4 == s[:4]:\n",
    "            result_array0.append(sequence)\n",
    "            result_array0_name.append(name)\n",
    "            break\n",
    "\n",
    "\n",
    "    \n",
    "\n",
    "result_array_cap2_0 = []\n",
    "result_array_cap2_1 = []\n",
    "cap2_0_name = []\n",
    "cap2_1_name = []\n",
    "for i in tqdm(range(len(sequences))):\n",
    "    match_palindrome_cap2(sequences[i], palindromes_cap2, result_array_cap2_0, result_array_cap2_1, cap2_0_name, cap2_1_name, names[i])\n",
    "\n",
    "result_array_cap1_0 = []\n",
    "result_array_cap1_1 = []\n",
    "cap1_0_name = []\n",
    "cap1_1_name = []\n",
    "\n",
    "for i in tqdm(range(len(sequences))):\n",
    "    match_palindrome_cap1(sequences[i], palindromes_cap1, result_array_cap1_0, result_array_cap1_1, cap1_0_name, cap1_1_name, names[i])\n"
   ]
  },
  {
   "cell_type": "code",
   "execution_count": 18,
   "id": "c5dd78a3-0285-452c-808f-9154ad81f3c8",
   "metadata": {},
   "outputs": [
    {
     "data": {
      "text/plain": [
       "0"
      ]
     },
     "execution_count": 18,
     "metadata": {},
     "output_type": "execute_result"
    }
   ],
   "source": [
    "import gc\n",
    "\n",
    "del palindromes_cap1\n",
    "del palindromes_cap2\n",
    "del sequences\n",
    "gc.collect()   "
   ]
  },
  {
   "cell_type": "code",
   "execution_count": 22,
   "id": "5953ae19-1a3e-47ba-9b2d-cc3d13334d91",
   "metadata": {},
   "outputs": [],
   "source": [
    "#write cap1 arrays to fasta file with 40 bp for alignment step\n",
    "def write_fasta_cap1(sequence0, sequence1, name0, name1, file_name):\n",
    "    with open(file_name, 'w') as file:\n",
    "        for i, sequence in tqdm(enumerate(sequence0)):\n",
    "            if len(sequence)>=42:\n",
    "                file.write(f\">Sequence{i+1}_{name0[i]}_{sequence[:2]}\\n\")\n",
    "                file.write(sequence[2:42] + \"\\n\") \n",
    "        for i, sequence in tqdm(enumerate(sequence1)):\n",
    "            if len(sequence)>=43:\n",
    "                file.write(f\">Sequence{i+1}_{name1[i]}_{sequence[:3]}\\n\")\n",
    "                file.write(sequence[3:43] + \"\\n\")"
   ]
  },
  {
   "cell_type": "code",
   "execution_count": 23,
   "id": "dc6b6ec7-83af-4d39-9fe9-a371378b79b4",
   "metadata": {},
   "outputs": [],
   "source": [
    "#write cap2 arrays to fasta file with 40 bp for alignment step\n",
    "def write_fasta_cap2(sequence0, sequence1, name0, name1, file_name):\n",
    "    with open(file_name, 'w') as file:\n",
    "        for i, sequence in tqdm(enumerate(sequence0)):\n",
    "            if len(sequence) >= 43:\n",
    "                file.write(f\">Sequence{i+1}_{name0[i]}_{sequence[:3]}\\n\")\n",
    "                file.write(sequence[3:43] + \"\\n\")\n",
    "        for i, sequence in tqdm(enumerate(sequence1)):\n",
    "            if len(sequence) >= 44:\n",
    "                file.write(f\">Sequence{i+1}_{name1[i]}_{sequence[:4]}\\n\")\n",
    "                file.write(sequence[4:44] + \"\\n\")"
   ]
  },
  {
   "cell_type": "code",
   "execution_count": 24,
   "id": "3050554b-0659-4648-81c8-8305e8799391",
   "metadata": {},
   "outputs": [
    {
     "name": "stderr",
     "output_type": "stream",
     "text": [
      "5453it [00:00, 302826.01it/s]\n",
      "6375it [00:00, 1576759.52it/s]\n",
      "1060it [00:00, 1693054.93it/s]\n",
      "2035it [00:00, 1547390.98it/s]\n"
     ]
    }
   ],
   "source": [
    "write_fasta_cap1(result_array_cap1_0, result_array_cap1_1, cap1_0_name, cap1_1_name, \"/Volumes/Extreme SSD/HP/cap1_m6am_test.fasta\")\n",
    "write_fasta_cap2(result_array_cap2_0, result_array_cap2_1, cap2_0_name, cap2_1_name, \"/Volumes/Extreme SSD/HP/cap2_m6am_test.fasta\")"
   ]
  },
  {
   "cell_type": "code",
   "execution_count": null,
   "id": "c2bde6bd-0d65-4d68-83b4-a7896b612f70",
   "metadata": {},
   "outputs": [],
   "source": []
  }
 ],
 "metadata": {
  "kernelspec": {
   "display_name": "Python 3 (ipykernel)",
   "language": "python",
   "name": "python3"
  },
  "language_info": {
   "codemirror_mode": {
    "name": "ipython",
    "version": 3
   },
   "file_extension": ".py",
   "mimetype": "text/x-python",
   "name": "python",
   "nbconvert_exporter": "python",
   "pygments_lexer": "ipython3",
   "version": "3.12.6"
  }
 },
 "nbformat": 4,
 "nbformat_minor": 5
}
