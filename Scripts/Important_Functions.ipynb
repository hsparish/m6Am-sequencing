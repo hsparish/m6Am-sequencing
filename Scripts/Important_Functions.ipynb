{
 "cells": [
  {
   "cell_type": "code",
   "execution_count": 7,
   "id": "7e143e48-9e2a-4323-8b0d-23c29aacb46f",
   "metadata": {},
   "outputs": [],
   "source": [
    "from collections import defaultdict\n",
    "\n",
    "def separate_by_gene(reads):\n",
    "    gene_dict = defaultdict(list)  # Creates a dictionary where each value is a list\n",
    "    # Loop through each read\n",
    "    for read in reads:\n",
    "        gene = read[4]  # Get the gene identifier for the read\n",
    "        gene_dict[gene].append(read)  # Add the read to the corresponding gene list\n",
    "    reads_by_gene = []\n",
    "    for i in range(len(gene_dict.items())):\n",
    "        reads_by_gene.append(np.array(list(gene_dict.items())[i][1]))\n",
    "    \n",
    "    return reads_by_gene\n",
    "\n",
    "#return the base at specified chromosome and position \n",
    "\n",
    "def chr_loc(chromosome, position, fasta):\n",
    "    try:\n",
    "        basepair = fasta[chromosome][position - 1]  # pyfaidx uses 0-based indexing internally\n",
    "        return basepair\n",
    "    except KeyError:\n",
    "        return f\"Chromosome {chromosome} not found in the FASTA file.\"\n",
    "    except IndexError:\n",
    "        return f\"Position {position} is out of range for chromosome {chromosome}.\"\n",
    "\n"
   ]
  },
  {
   "cell_type": "code",
   "execution_count": null,
   "id": "bc6c1fc9-c48e-4ad0-9d69-6fb432bae593",
   "metadata": {},
   "outputs": [],
   "source": []
  }
 ],
 "metadata": {
  "kernelspec": {
   "display_name": "Python 3 (ipykernel)",
   "language": "python",
   "name": "python3"
  },
  "language_info": {
   "codemirror_mode": {
    "name": "ipython",
    "version": 3
   },
   "file_extension": ".py",
   "mimetype": "text/x-python",
   "name": "python",
   "nbconvert_exporter": "python",
   "pygments_lexer": "ipython3",
   "version": "3.12.6"
  }
 },
 "nbformat": 4,
 "nbformat_minor": 5
}
