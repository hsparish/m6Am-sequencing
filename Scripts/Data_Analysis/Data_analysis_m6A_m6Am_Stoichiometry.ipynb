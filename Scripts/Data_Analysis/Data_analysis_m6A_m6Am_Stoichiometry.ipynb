{
 "cells": [
  {
   "cell_type": "code",
   "execution_count": 14,
   "id": "893ecf63-9213-4395-85f3-64f27decc326",
   "metadata": {},
   "outputs": [],
   "source": [
    "import numpy as np\n",
    "import pandas as pd\n",
    "from tqdm import tqdm\n",
    "import matplotlib.pyplot as plt"
   ]
  },
  {
   "cell_type": "code",
   "execution_count": 15,
   "id": "23aa07c3-03e8-4e4f-98d6-93fb11c04edf",
   "metadata": {},
   "outputs": [],
   "source": [
    "cap1_Am = np.load(\"cap1_ann_Am.npy\", allow_pickle = True)\n",
    "cap1_m6Am = np.load(\"cap1_ann_m6Am.npy\", allow_pickle = True)\n",
    "m6Am = np.load(\"cap12_ann_m6Am.npy\", allow_pickle = True)\n",
    "cap2_Am = np.load(\"cap2_ann_Am.npy\", allow_pickle = True)\n",
    "cap2_m6Am = np.load(\"cap2_ann_m6Am.npy\", allow_pickle = True)\n",
    "Am = np.load(\"cap12_ann_Am.npy\", allow_pickle = True)\n"
   ]
  },
  {
   "cell_type": "code",
   "execution_count": 16,
   "id": "622fed8e-bab5-450d-881a-2597e416792e",
   "metadata": {},
   "outputs": [
    {
     "name": "stderr",
     "output_type": "stream",
     "text": [
      "100%|███████████████████████████████████| 2474/2474 [00:00<00:00, 184242.26it/s]\n",
      "100%|███████████████████████████████████████| 10/10 [00:00<00:00, 107822.72it/s]\n",
      "100%|███████████████████████████████████| 1716/1716 [00:00<00:00, 231205.45it/s]\n",
      "100%|█████████████████████████████████████████| 7/7 [00:00<00:00, 120328.39it/s]\n",
      "100%|███████████████████████████████████| 3146/3146 [00:00<00:00, 333466.78it/s]\n",
      "100%|███████████████████████████████████████| 16/16 [00:00<00:00, 229040.49it/s]\n"
     ]
    }
   ],
   "source": [
    "# Create a dictionary from cap1 with the first 3 elements as the key\n",
    "def find_percents(m6Am_array, Am_array):\n",
    "    overlap = []\n",
    "    only_Am = []\n",
    "    only_m6Am = []\n",
    "    Am_dict = {tuple(Am_array[i][:4]): Am_array[i][5] for i in range(len(Am_array))}\n",
    "    m6Am_dict = {tuple(m6Am_array[i][:4]): m6Am_array[i][5] for i in range(len(m6Am_array))}\n",
    "    # Iterate through cap2 and check for matches in cap1_dict\n",
    "    for i in tqdm(range(len(m6Am_array))):\n",
    "        key = tuple(m6Am_array[i][:4])\n",
    "        if key in Am_dict:\n",
    "            for j in range(6):\n",
    "                overlap.append((m6Am_array[i])[j])\n",
    "            overlap.append(Am_dict[key])\n",
    "            overlap.append(100*int(m6Am_array[i][5])/(int(m6Am_array[i][5])+int(Am_dict[key])))\n",
    "        else:\n",
    "            for j in range(6):\n",
    "                only_m6Am.append((m6Am_array[i])[j])\n",
    "            only_m6Am.append(0)\n",
    "            only_m6Am.append(100)\n",
    "\n",
    "    for i in tqdm(range(len(Am_array))):\n",
    "        key = tuple(Am_array[i][:4])\n",
    "        if key in m6Am_dict:\n",
    "            pass\n",
    "        else: \n",
    "            for j in range(5):\n",
    "                only_Am.append((Am_array[i])[j])\n",
    "            only_Am.append(0)\n",
    "            only_Am.append(Am_array[i][5])\n",
    "            only_Am.append(0)\n",
    "            \n",
    "    overlap = np.array(overlap)\n",
    "    overlap = overlap.reshape((int(overlap.size/8),8))\n",
    "    \n",
    "    only_Am = np.array(only_Am)\n",
    "    only_Am = only_Am.reshape((int(only_Am.size/8),8))\n",
    "    \n",
    "    only_m6Am = np.array(only_m6Am)\n",
    "    only_m6Am = only_m6Am.reshape((int(only_m6Am.size/8),8))\n",
    "\n",
    "    return overlap, only_Am, only_m6Am\n",
    "\n",
    "overlap1, only_Am1, only_m6Am1 = find_percents(cap1_m6Am, cap1_Am)\n",
    "overlap2, only_Am2, only_m6Am2 = find_percents(cap2_m6Am, cap2_Am)\n",
    "overlap12, only_Am12, only_m6Am12 = find_percents(m6Am, Am)\n"
   ]
  },
  {
   "cell_type": "code",
   "execution_count": null,
   "id": "e35a9549-8f95-470e-b893-bbbc473caacc",
   "metadata": {},
   "outputs": [],
   "source": []
  }
 ],
 "metadata": {
  "kernelspec": {
   "display_name": "Python 3 (ipykernel)",
   "language": "python",
   "name": "python3"
  },
  "language_info": {
   "codemirror_mode": {
    "name": "ipython",
    "version": 3
   },
   "file_extension": ".py",
   "mimetype": "text/x-python",
   "name": "python",
   "nbconvert_exporter": "python",
   "pygments_lexer": "ipython3",
   "version": "3.12.6"
  }
 },
 "nbformat": 4,
 "nbformat_minor": 5
}
