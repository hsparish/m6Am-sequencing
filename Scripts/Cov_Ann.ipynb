{
 "cells": [
  {
   "cell_type": "code",
   "execution_count": 7,
   "id": "200c8186-97e7-4b2b-b40d-3d68c0034732",
   "metadata": {},
   "outputs": [],
   "source": [
    "import pysam\n",
    "import numpy as np\n",
    "import pandas as pd\n",
    "from tqdm import tqdm\n",
    "\n"
   ]
  },
  {
   "cell_type": "code",
   "execution_count": 13,
   "id": "f23c6085-c2d3-4dc5-8866-ad68e55d870b",
   "metadata": {},
   "outputs": [
    {
     "name": "stdout",
     "output_type": "stream",
     "text": [
      "17141\n",
      "46557\n",
      "['chr1' 629188 629189 '-' '1/1CAGCCGAACACACAAGCACCACCACAACAAACACCCCCAC'\n",
      " 'CAGCCGAACACACAAGCACCACCACAACAAACACCCCCAC']\n"
     ]
    }
   ],
   "source": [
    "pos_count2Am = np.load(\"filtered_cap2_Am.npy\", allow_pickle = True)\n",
    "pos_count1Am = np.load(\"filtered_cap1_Am.npy\", allow_pickle = True)\n",
    "print(len(pos_count1m6Am))\n",
    "print(len(pos_count1Am))\n",
    "pos_count2m6Am = np.load(\"filtered_cap2_m6Am.npy\", allow_pickle = True)\n",
    "pos_count1m6Am = np.load(\"filtered_cap1_m6Am.npy\", allow_pickle = True)\n",
    "\n",
    "pos_countAm  = np.load(\"Ambiguous_reads_Am.npy\", allow_pickle = True)\n",
    "pos_countm6Am  = np.load(\"Ambiguous_reads_m6Am.npy\", allow_pickle = True)\n",
    "print(pos_count1Am[0])\n",
    "#amb = np.load(\"ambiguous_reads_full_test_filt.npy\", allow_pickle = True)"
   ]
  },
  {
   "cell_type": "code",
   "execution_count": 9,
   "id": "4944f796-dd4c-4c02-830a-e60541243003",
   "metadata": {},
   "outputs": [],
   "source": [
    "tss_seq = pd.read_csv(\"/Volumes/Extreme SSD/HP/CROWN_sites.csv\", sep = ',')\n",
    "tss_seq = np.array(tss_seq)\n",
    "for i in range(len(tss_seq)):\n",
    "    tss_seq[i][0]='chr'+tss_seq[i][0]\n"
   ]
  },
  {
   "cell_type": "code",
   "execution_count": 11,
   "id": "76fc9ab8-9de2-4281-8e43-274cd22679b2",
   "metadata": {},
   "outputs": [
    {
     "name": "stderr",
     "output_type": "stream",
     "text": [
      "100%|██████████████████████████████████| 5842/5842 [00:00<00:00, 2063594.74it/s]\n",
      "100%|██████████████████████████████████| 5842/5842 [00:00<00:00, 2232630.89it/s]\n",
      "100%|██████████████████████████████████| 5842/5842 [00:00<00:00, 2523493.71it/s]\n",
      "100%|██████████████████████████████████| 5842/5842 [00:00<00:00, 2721057.63it/s]\n",
      "100%|██████████████████████████████████| 5842/5842 [00:00<00:00, 2778131.97it/s]\n",
      "100%|██████████████████████████████████| 5842/5842 [00:00<00:00, 2852517.34it/s]"
     ]
    },
    {
     "name": "stdout",
     "output_type": "stream",
     "text": [
      "21\n",
      "15\n"
     ]
    },
    {
     "name": "stderr",
     "output_type": "stream",
     "text": [
      "\n"
     ]
    }
   ],
   "source": [
    "annotated1Am = []\n",
    "\n",
    "# Create a dictionary with chromosome, position in chromosome, strand for cap1\n",
    "pos_count_dict1Am = {}\n",
    "\n",
    "i = 0\n",
    "for pos in pos_count1Am:\n",
    "    key = (pos[0], pos[1], pos[2], pos[3])\n",
    "    if key in pos_count_dict1Am:\n",
    "        pos_count_dict1Am[key][1] += 1  # Increment the count if the key already in dictionary\n",
    "    else:\n",
    "        pos_count_dict1Am[key] = [pos, 1] # otherwise the count is 1\n",
    "\n",
    "\n",
    "\n",
    "# Annotate with TSS-seq\n",
    "for seq in tqdm(tss_seq):\n",
    "    key = (seq[0], seq[1], seq[2], seq[3])\n",
    "    if key in pos_count_dict1Am:\n",
    "        annotated1Am.append(seq[0])\n",
    "        annotated1Am.append(seq[1])\n",
    "        annotated1Am.append(seq[2])\n",
    "        annotated1Am.append(seq[3])\n",
    "        annotated1Am.append(pos_count_dict1Am[key][1])\n",
    "\n",
    "annotated1m6Am = []\n",
    "\n",
    "pos_count_dict1m6Am = {}\n",
    "\n",
    "i = 0\n",
    "for pos in pos_count1m6Am:\n",
    "    key = (pos[0], pos[1], pos[2], pos[3])\n",
    "    if key in pos_count_dict1m6Am:\n",
    "        pos_count_dict1m6Am[key][1] += 1  \n",
    "    else:\n",
    "        pos_count_dict1m6Am[key] = [pos, 1]\n",
    "\n",
    "\n",
    "for seq in tqdm(tss_seq):\n",
    "    key = (seq[0], seq[1], seq[2], seq[3])\n",
    "    if key in pos_count_dict1m6Am:\n",
    "        for i in range(4):\n",
    "            annotated1m6Am.append(seq[i])\n",
    "        annotated1m6Am.append(pos_count_dict1m6Am[key][1])\n",
    "\n",
    "\n",
    "# Repeat for Cap2\n",
    "annotated2Am = []\n",
    "\n",
    "pos_count_dict2Am = {}\n",
    "for pos in pos_count2Am:\n",
    "    key = (pos[0], pos[1], pos[2], pos[3])\n",
    "    if key in pos_count_dict2Am:\n",
    "        pos_count_dict2Am[key][1] += 1  \n",
    "    else:\n",
    "        pos_count_dict2Am[key] = [pos, 1]  \n",
    "\n",
    "for seq in tqdm(tss_seq):\n",
    "    key = (seq[0], seq[1], seq[2], seq[3])\n",
    "    if key in pos_count_dict2Am:\n",
    "        annotated2Am.append(seq[0:4])\n",
    "\n",
    "annotated2m6Am = []\n",
    "\n",
    "pos_count_dict2m6Am = {}\n",
    "for pos in pos_count2m6Am:\n",
    "    key = (pos[0], pos[1], pos[2], pos[3])\n",
    "    if key in pos_count_dict2m6Am:\n",
    "        pos_count_dict2m6Am[key][1] += 1  \n",
    "    else:\n",
    "        pos_count_dict2m6Am[key] = [pos, 1]  \n",
    "\n",
    "for seq in tqdm(tss_seq):\n",
    "    key = (seq[0], seq[1], seq[2], seq[3])\n",
    "    if key in pos_count_dict2m6Am:\n",
    "        annotated2m6Am.append(seq[0:4])\n",
    "\n",
    "annotatedAm = []\n",
    "\n",
    "pos_count_dictAm = {}\n",
    "for pos in pos_countAm:\n",
    "    key = (pos[0], pos[1], pos[2], pos[3])\n",
    "    if key in pos_count_dictAm:\n",
    "        pos_count_dictAm[key][1] += 1  \n",
    "    else:\n",
    "        pos_count_dictAm[key] = [pos, 1]  \n",
    "        \n",
    "\n",
    "for seq in tqdm(tss_seq):\n",
    "    key = (seq[0], seq[1], seq[2], seq[3])\n",
    "    if key in pos_count_dictAm:\n",
    "        annotatedAm.append(seq[0:4])\n",
    "\n",
    "\n",
    "# Repeat for ambiguous reads\n",
    "annotatedm6Am = []\n",
    "\n",
    "pos_count_dictm6Am = {}\n",
    "for pos in pos_countm6Am:\n",
    "    key = (pos[0], pos[1], pos[2], pos[3])\n",
    "    if key in pos_count_dictm6Am:\n",
    "        pos_count_dictm6Am[key][1] += 1  \n",
    "    else:\n",
    "        pos_count_dictm6Am[key] = [pos, 1]  \n",
    "        \n",
    "# Iterate through tss_seq and check if the corresponding tuple exists in pos_count_dict\n",
    "for seq in tqdm(tss_seq):\n",
    "    key = (seq[0], seq[1], seq[2], seq[3])\n",
    "    if key in pos_count_dictm6Am:\n",
    "        annotatedm6Am.append(seq[0:4])\n",
    "\n",
    "annotated1Am = np.array(annotated1Am)\n",
    "annotated1Am = annotated1Am.reshape((int(annotated1Am.size/5), 5))\n",
    "\n",
    "annotated1m6Am = np.array(annotated1m6Am)\n",
    "annotated1m6Am = annotated1m6Am.reshape((int(annotated1m6Am.size/5), 5))\n",
    "\n",
    "print(len(annotated1Am))\n",
    "print(len(annotated1m6Am))"
   ]
  },
  {
   "cell_type": "code",
   "execution_count": 69,
   "id": "75c00455-2153-46c2-89d9-7857a949f99c",
   "metadata": {},
   "outputs": [],
   "source": [
    "np.save(\"cap1_ann_Am.npy\", annotated1Am)\n",
    "np.save(\"cap2_ann_Am.npy\", ann_arr2Am)\n",
    "np.save(\"amb_ann_Am.npy\", ann_arrAm)\n",
    "\n",
    "np.save(\"cap1_ann_m6Am.npy\", annotated1m6Am)\n",
    "np.save(\"cap2_ann_m6Am.npy\", ann_arr2m6Am)\n",
    "np.save(\"amb_ann_Am.npy\", ann_arrAm)"
   ]
  },
  {
   "cell_type": "code",
   "execution_count": 70,
   "id": "0a9b8670-9c39-409a-ab53-24496c5903ef",
   "metadata": {},
   "outputs": [
    {
     "name": "stdout",
     "output_type": "stream",
     "text": [
      "[[array(['chr1', 629188, 629189, '-',\n",
      "         '1/1CCTCCACAGCCGAACACACAAGCACCACCACAACAAACACCCCCAC',\n",
      "         'CCTCCACAGCCGAACACACAAGCACCACCACAACAAACACCCCCAC'], dtype=object)\n",
      "  1]\n",
      " [array(['chr1', 630302, 630303, '+',\n",
      "         '1/1GGCTGTTTGTGTTGTCCTGGCTGCTGCCGCGTTCCTGCTGCTCGGCTTGGGCTCCGGCGCCGCGGCCCTGCTGCTGTCTCGCGCCTGGG',\n",
      "         'GGCTGTTTGTGTTGTCCTGGCTGCTGCCGCGTTCCTGCTGCTCGGCTTGGGCTCCGGCGCCGCGGCCCTGCTGCTGTCTCGCGCCTGGG'],\n",
      "        dtype=object)\n",
      "  1]\n",
      " [array(['chr1', 633533, 633534, '+',\n",
      "         '1/1GGTGCTCCGGCTGGGTGCTGCCGTGTGGCCCGCCGTGGTT',\n",
      "         'GGTGCTCCGGCTGGGTGCTGCCGTGTGGCCCGCCGTGGTT'], dtype=object) 1]\n",
      " [array(['chr1', 1724475, 1724476, '+',\n",
      "         '1/1GGGGGGGGCTGCGCCCTGGGCTGCGCTTCCGGCTTCGGCGCG',\n",
      "         'GGGGGGGGCTGCGCCCTGGGCTGCGCTTCCGGCTTCGGCGCG'], dtype=object) 1]\n",
      " [array(['chr1', 4151503, 4151504, '+',\n",
      "         '1/1GCCGGGCGCGGTGGCGCGTGCCTGTGGTCCCGGCTGCTCGGGGGGCT',\n",
      "         'GCCGGGCGCGGTGGCGCGTGCCTGTGGTCCCGGCTGCTCGGGGGGCT'], dtype=object)\n",
      "  2]\n",
      " [array(['chr1', 5539472, 5539473, '+',\n",
      "         '1/1GGGGGCTTGTTCTCGGGGGGGGGCTCGGGGTGCTTGCTGTGGTGCGTCTCGGGGCCTGCCGGTTCCGC',\n",
      "         'GGGGGCTTGTTCTCGGGGGGGGGCTCGGGGTGCTTGCTGTGGTGCGTCTCGGGGCCTGCCGGTTCCGC'],\n",
      "        dtype=object)\n",
      "  1]\n",
      " [array(['chr1', 6062182, 6062183, '+',\n",
      "         '1/1GCCGGGCGCGGTGGCGCGTGCCTGTGGTCCCGGCTGCTCGGGGGGCTGGGGTGGG',\n",
      "         'GCCGGGCGCGGTGGCGCGTGCCTGTGGTCCCGGCTGCTCGGGGGGCTGGGGTGGG'],\n",
      "        dtype=object)                                                  7]\n",
      " [array(['chr1', 7961454, 7961455, '-',\n",
      "         '1/1ACCAAGGAACCCCCCCGACAACCCCAACCCCTCGGCAGCCCCAGAGACCGGCC',\n",
      "         'ACCAAGGAACCCCCCCGACAACCCCAACCCCTCGGCAGCCCCAGAGACCGGCC'],\n",
      "        dtype=object)                                                1]\n",
      " [array(['chr1', 7962772, 7962773, '+',\n",
      "         '1/1GTGTGGCGTGGGGGTGGCTTCCGGGGGGGCTCTGGTCGTC',\n",
      "         'GTGTGGCGTGGGGGTGGCTTCCGGGGGGGCTCTGGTCGTC'], dtype=object) 1]\n",
      " [array(['chr1', 7962782, 7962783, '+',\n",
      "         '4/1GGGGTGTCTTCCGGGGGGGCTCTGGTCGTCCTGGCTGGGG',\n",
      "         'GGGGTGTCTTCCGGGGGGGCTCTGGTCGTCCTGGCTGGGG'], dtype=object) 1]]\n"
     ]
    }
   ],
   "source": [
    "print(ann_arr1Am[:10])"
   ]
  },
  {
   "cell_type": "code",
   "execution_count": null,
   "id": "e9be2788-2011-4564-b053-d1df7cd5dff5",
   "metadata": {},
   "outputs": [],
   "source": []
  },
  {
   "cell_type": "code",
   "execution_count": null,
   "id": "afe33fcc-d4de-432f-8145-ceae2bc41083",
   "metadata": {},
   "outputs": [],
   "source": []
  }
 ],
 "metadata": {
  "kernelspec": {
   "display_name": "Python 3 (ipykernel)",
   "language": "python",
   "name": "python3"
  },
  "language_info": {
   "codemirror_mode": {
    "name": "ipython",
    "version": 3
   },
   "file_extension": ".py",
   "mimetype": "text/x-python",
   "name": "python",
   "nbconvert_exporter": "python",
   "pygments_lexer": "ipython3",
   "version": "3.12.6"
  }
 },
 "nbformat": 4,
 "nbformat_minor": 5
}
