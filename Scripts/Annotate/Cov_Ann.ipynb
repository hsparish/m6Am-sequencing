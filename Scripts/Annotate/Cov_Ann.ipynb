{
 "cells": [
  {
   "cell_type": "code",
   "execution_count": 1,
   "id": "200c8186-97e7-4b2b-b40d-3d68c0034732",
   "metadata": {},
   "outputs": [],
   "source": [
    "import pysam\n",
    "import numpy as np\n",
    "import pandas as pd\n",
    "from tqdm import tqdm\n",
    "\n"
   ]
  },
  {
   "cell_type": "code",
   "execution_count": 3,
   "id": "f23c6085-c2d3-4dc5-8866-ad68e55d870b",
   "metadata": {},
   "outputs": [
    {
     "name": "stdout",
     "output_type": "stream",
     "text": [
      "['chr1' 631535 631536 '+' 'ACTGTCTCCTCTATCTTAGGGGCCATCAATTTCATCACAACAA'\n",
      " 'GTCTCCTCTATCTTAGGGGCCATCAATTTCATCACAACAA']\n",
      "21925\n",
      "272\n"
     ]
    }
   ],
   "source": [
    "pos_count2Am = np.load(\"filtered_cap2_Am.npy\", allow_pickle = True)\n",
    "pos_count1Am = np.load(\"filtered_cap1_Am.npy\", allow_pickle = True)\n",
    "\n",
    "pos_count2m6Am = np.load(\"filtered_cap2_m6Am.npy\", allow_pickle = True)\n",
    "pos_count1m6Am = np.load(\"filtered_cap1_m6Am.npy\", allow_pickle = True)\n",
    "\n",
    "pos_countAm  = np.load(\"Ambiguous_reads_Am.npy\", allow_pickle = True)\n",
    "pos_countm6Am  = np.load(\"Ambiguous_reads_m6Am.npy\", allow_pickle = True)\n",
    "print(pos_count1Am[0])\n",
    "print(len(pos_count1m6Am))\n",
    "print(len(pos_count1Am))\n",
    "#amb = np.load(\"ambiguous_reads_full_test_filt.npy\", allow_pickle = True)"
   ]
  },
  {
   "cell_type": "code",
   "execution_count": 10,
   "id": "4944f796-dd4c-4c02-830a-e60541243003",
   "metadata": {},
   "outputs": [],
   "source": [
    "tss_seq = pd.read_csv(\"/Volumes/Extreme SSD/HP/TSNmRNAisoforms.csv\", sep = ',')\n",
    "tss_seq = np.array(tss_seq)\n",
    "for i in range(len(tss_seq)):\n",
    "    tss_seq[i][0]=tss_seq[i][0]\n"
   ]
  },
  {
   "cell_type": "code",
   "execution_count": 11,
   "id": "76fc9ab8-9de2-4281-8e43-274cd22679b2",
   "metadata": {},
   "outputs": [
    {
     "name": "stderr",
     "output_type": "stream",
     "text": [
      "100%|████████████████████████████████| 24347/24347 [00:00<00:00, 1788356.27it/s]\n",
      "100%|████████████████████████████████| 24347/24347 [00:00<00:00, 1978431.48it/s]\n",
      "100%|████████████████████████████████| 24347/24347 [00:00<00:00, 2650713.03it/s]\n",
      "100%|████████████████████████████████| 24347/24347 [00:00<00:00, 2819557.11it/s]\n",
      "100%|████████████████████████████████| 24347/24347 [00:00<00:00, 3596742.73it/s]\n",
      "100%|████████████████████████████████| 24347/24347 [00:00<00:00, 3557275.91it/s]\n"
     ]
    }
   ],
   "source": [
    "annotated1Am = []\n",
    "\n",
    "# Create a dictionary with chromosome, position in chromosome, strand for cap1\n",
    "pos_count_dict1Am = {}\n",
    "\n",
    "i = 0\n",
    "for pos in pos_count1Am:\n",
    "    key = (pos[0], pos[1], pos[2], pos[3])\n",
    "    if key in pos_count_dict1Am:\n",
    "        pos_count_dict1Am[key][1] += 1  # Increment the count if the key already in dictionary\n",
    "    else:\n",
    "        pos_count_dict1Am[key] = [pos, 1] # otherwise the count is 1\n",
    "\n",
    "\n",
    "\n",
    "# Annotate with TSS-seq\n",
    "for seq in tqdm(tss_seq):\n",
    "    key = (seq[0], seq[1], seq[2], seq[3])\n",
    "    if key in pos_count_dict1Am:\n",
    "        for i in range(4):\n",
    "            annotated1Am.append(seq[i])\n",
    "        annotated1Am.append(pos_count_dict1Am[key][1])\n",
    "\n",
    "annotated1m6Am = []\n",
    "\n",
    "pos_count_dict1m6Am = {}\n",
    "\n",
    "i = 0\n",
    "for pos in pos_count1m6Am:\n",
    "    key = (pos[0], pos[1], pos[2], pos[3])\n",
    "    if key in pos_count_dict1m6Am:\n",
    "        pos_count_dict1m6Am[key][1] += 1  \n",
    "    else:\n",
    "        pos_count_dict1m6Am[key] = [pos, 1]\n",
    "\n",
    "\n",
    "for seq in tqdm(tss_seq):\n",
    "    key = (seq[0], seq[1], seq[2], seq[3])\n",
    "    if key in pos_count_dict1m6Am:\n",
    "        for i in range(4):\n",
    "            annotated1m6Am.append(seq[i])\n",
    "        annotated1m6Am.append(pos_count_dict1m6Am[key][1])\n",
    "\n",
    "\n",
    "# Repeat for Cap2\n",
    "annotated2Am = []\n",
    "\n",
    "pos_count_dict2Am = {}\n",
    "for pos in pos_count2Am:\n",
    "    key = (pos[0], pos[1], pos[2], pos[3])\n",
    "    if key in pos_count_dict2Am:\n",
    "        pos_count_dict2Am[key][1] += 1  \n",
    "    else:\n",
    "        pos_count_dict2Am[key] = [pos, 1]  \n",
    "\n",
    "for seq in tqdm(tss_seq):\n",
    "    key = (seq[0], seq[1], seq[2], seq[3])\n",
    "    if key in pos_count_dict2Am:\n",
    "        for i in range(4):\n",
    "            annotated2Am.append(seq[i])\n",
    "        annotated2Am.append(pos_count_dict2Am[key][1])\n",
    "\n",
    "annotated2m6Am = []\n",
    "\n",
    "pos_count_dict2m6Am = {}\n",
    "for pos in pos_count2m6Am:\n",
    "    key = (pos[0], pos[1], pos[2], pos[3])\n",
    "    if key in pos_count_dict2m6Am:\n",
    "        pos_count_dict2m6Am[key][1] += 1  \n",
    "    else:\n",
    "        pos_count_dict2m6Am[key] = [pos, 1]  \n",
    "\n",
    "for seq in tqdm(tss_seq):\n",
    "    key = (seq[0], seq[1], seq[2], seq[3])\n",
    "    if key in pos_count_dict2m6Am:\n",
    "        for i in range(4):\n",
    "            annotated2m6Am.append(seq[i])\n",
    "        annotated2m6Am.append(pos_count_dict2m6Am[key][1])\n",
    "\n",
    "annotatedAm = []\n",
    "\n",
    "pos_count_dictAm = {}\n",
    "for pos in pos_countAm:\n",
    "    key = (pos[0], pos[1], pos[2], pos[3])\n",
    "    if key in pos_count_dictAm:\n",
    "        pos_count_dictAm[key][1] += 1  \n",
    "    else:\n",
    "        pos_count_dictAm[key] = [pos, 1]  \n",
    "        \n",
    "\n",
    "for seq in tqdm(tss_seq):\n",
    "    key = (seq[0], seq[1], seq[2], seq[3])\n",
    "    if key in pos_count_dictAm:\n",
    "        for i in range(4):\n",
    "            annotatedAm.append(seq[i])\n",
    "        annotatedAm.append(pos_count_dictAm[key][1])\n",
    "\n",
    "\n",
    "# Repeat for ambiguous reads\n",
    "annotatedm6Am = []\n",
    "\n",
    "pos_count_dictm6Am = {}\n",
    "for pos in pos_countm6Am:\n",
    "    key = (pos[0], pos[1], pos[2], pos[3])\n",
    "    if key in pos_count_dictm6Am:\n",
    "        pos_count_dictm6Am[key][1] += 1  \n",
    "    else:\n",
    "        pos_count_dictm6Am[key] = [pos, 1]  \n",
    "        \n",
    "# Iterate through tss_seq and check if the corresponding tuple exists in pos_count_dict\n",
    "for seq in tqdm(tss_seq):\n",
    "    key = (seq[0], seq[1], seq[2], seq[3])\n",
    "    if key in pos_count_dictm6Am:\n",
    "        for i in range(4):\n",
    "            annotatedm6Am.append(seq[i])\n",
    "        annotatedm6Am.append(pos_count_dictm6Am[key][1])\n",
    "\n",
    "annotated1Am = np.array(annotated1Am)\n",
    "annotated1Am = annotated1Am.reshape((int(annotated1Am.size/5), 5))\n",
    "\n",
    "annotated1m6Am = np.array(annotated1m6Am)\n",
    "annotated1m6Am = annotated1m6Am.reshape((int(annotated1m6Am.size/5), 5))\n",
    "\n",
    "annotated2Am = np.array(annotated2Am)\n",
    "annotated2Am = annotated2Am.reshape((int(annotated2Am.size/5), 5))\n",
    "\n",
    "annotated2m6Am = np.array(annotated2m6Am)\n",
    "annotated2m6Am = annotated2m6Am.reshape((int(annotated2m6Am.size/5), 5))\n",
    "\n",
    "annotatedAm = np.array(annotatedAm)\n",
    "annotatedAm = annotatedAm.reshape((int(annotatedAm.size/5), 5))\n",
    "\n",
    "annotatedm6Am = np.array(annotatedm6Am)\n",
    "annotatedm6Am = annotatedm6Am.reshape((int(annotatedm6Am.size/5), 5))\n"
   ]
  },
  {
   "cell_type": "code",
   "execution_count": 12,
   "id": "75c00455-2153-46c2-89d9-7857a949f99c",
   "metadata": {},
   "outputs": [],
   "source": [
    "np.save(\"cap1_ann_Am.npy\", annotated1Am)\n",
    "np.save(\"cap2_ann_Am.npy\", annotated2Am)\n",
    "np.save(\"amb_ann_Am.npy\", annotatedAm)\n",
    "\n",
    "np.save(\"cap1_ann_m6Am.npy\", annotated1m6Am)\n",
    "np.save(\"cap2_ann_m6Am.npy\", annotated2m6Am)\n",
    "np.save(\"amb_ann_m6Am.npy\", annotatedm6Am)"
   ]
  },
  {
   "cell_type": "code",
   "execution_count": 15,
   "id": "e9be2788-2011-4564-b053-d1df7cd5dff5",
   "metadata": {},
   "outputs": [
    {
     "name": "stdout",
     "output_type": "stream",
     "text": [
      "1716\n"
     ]
    }
   ],
   "source": [
    "print(len(annotated2m6Am))"
   ]
  },
  {
   "cell_type": "code",
   "execution_count": null,
   "id": "afe33fcc-d4de-432f-8145-ceae2bc41083",
   "metadata": {},
   "outputs": [],
   "source": []
  }
 ],
 "metadata": {
  "kernelspec": {
   "display_name": "Python 3 (ipykernel)",
   "language": "python",
   "name": "python3"
  },
  "language_info": {
   "codemirror_mode": {
    "name": "ipython",
    "version": 3
   },
   "file_extension": ".py",
   "mimetype": "text/x-python",
   "name": "python",
   "nbconvert_exporter": "python",
   "pygments_lexer": "ipython3",
   "version": "3.12.6"
  }
 },
 "nbformat": 4,
 "nbformat_minor": 5
}
