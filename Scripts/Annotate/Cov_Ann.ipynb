{
 "cells": [
  {
   "cell_type": "code",
   "execution_count": 8,
   "id": "200c8186-97e7-4b2b-b40d-3d68c0034732",
   "metadata": {},
   "outputs": [],
   "source": [
    "import numpy as np\n",
    "import pandas as pd\n",
    "from tqdm import tqdm\n"
   ]
  },
  {
   "cell_type": "code",
   "execution_count": 9,
   "id": "f23c6085-c2d3-4dc5-8866-ad68e55d870b",
   "metadata": {},
   "outputs": [],
   "source": [
    "pos_count2Am = np.load(\"filtered_cap2_Am.npy\", allow_pickle = True)\n",
    "pos_count1Am = np.load(\"filtered_cap1_Am.npy\", allow_pickle = True)\n",
    "\n",
    "pos_count2m6Am = np.load(\"filtered_cap2_m6Am.npy\", allow_pickle = True)\n",
    "pos_count1m6Am = np.load(\"filtered_cap1_m6Am.npy\", allow_pickle = True)\n",
    "\n",
    "pos_countAm  = np.load(\"Ambiguous_reads_Am.npy\", allow_pickle = True)\n",
    "pos_countm6Am  = np.load(\"Ambiguous_reads_m6Am.npy\", allow_pickle = True)\n"
   ]
  },
  {
   "cell_type": "code",
   "execution_count": 10,
   "id": "4944f796-dd4c-4c02-830a-e60541243003",
   "metadata": {},
   "outputs": [
    {
     "name": "stdout",
     "output_type": "stream",
     "text": [
      "['chr16' 53577 53578 '-' 'POLR3K' 0.169340463 'Other']\n"
     ]
    }
   ],
   "source": [
    "tss_seq = pd.read_csv(\"/Volumes/Extreme SSD/HP/TSNmRNAisoforms.csv\", sep = ',')\n",
    "tss_seq = np.array(tss_seq)\n",
    "\n",
    "print(tss_seq[0])"
   ]
  },
  {
   "cell_type": "code",
   "execution_count": 13,
   "id": "76fc9ab8-9de2-4281-8e43-274cd22679b2",
   "metadata": {},
   "outputs": [
    {
     "name": "stderr",
     "output_type": "stream",
     "text": [
      "100%|████████████████████████████████| 24347/24347 [00:00<00:00, 1733381.76it/s]\n",
      "100%|████████████████████████████████| 24347/24347 [00:00<00:00, 2516231.01it/s]\n",
      "100%|████████████████████████████████| 24347/24347 [00:00<00:00, 2497645.15it/s]\n",
      "100%|████████████████████████████████| 24347/24347 [00:00<00:00, 2657403.96it/s]\n",
      "100%|████████████████████████████████| 24347/24347 [00:00<00:00, 3687927.75it/s]\n",
      "100%|████████████████████████████████| 24347/24347 [00:00<00:00, 3773509.70it/s]"
     ]
    },
    {
     "name": "stdout",
     "output_type": "stream",
     "text": [
      "['chr19' '1905398' '1905399' '+' 'ADAT3' '1'\n",
      " 'GAGACTTGGCGAAGCGCTGCGCTCGCGCCCGGATCCCTCA']\n"
     ]
    },
    {
     "name": "stderr",
     "output_type": "stream",
     "text": [
      "\n"
     ]
    }
   ],
   "source": [
    "# Function to annotate reads to TSS\n",
    "def annotate_to_tss(cap_reads):\n",
    "    annotated = []\n",
    "\n",
    "    # Create a dictionary with chromosome, position in chromosome, strand for cap1\n",
    "    pos_count_dict = {}\n",
    "\n",
    "    i = 0\n",
    "    for pos in cap_reads:\n",
    "        key = (pos[0], pos[1], pos[2], pos[3])\n",
    "        if key in pos_count_dict:\n",
    "            pos_count_dict[key][1] += 1  # Increment the count if the key already in dictionary\n",
    "        else:\n",
    "            pos_count_dict[key] = [pos, 1] # otherwise the count is 1\n",
    "\n",
    "    # Annotate with TSS-seq\n",
    "    for seq in tqdm(tss_seq):\n",
    "        key = (seq[0], seq[1], seq[2], seq[3])\n",
    "        if key in pos_count_dict:\n",
    "            for i in range(5):\n",
    "                annotated.append(seq[i])\n",
    "            annotated.append(pos_count_dict[key][1])\n",
    "            annotated.append(pos_count_dict[key][0][5])\n",
    "    annotated = np.array(annotated)\n",
    "    annotated = annotated.reshape((int(annotated.size/7), 7))\n",
    "    return annotated\n",
    "\n",
    "annotated1Am = annotate_to_tss(pos_count1Am)\n",
    "\n",
    "annotated1m6Am = annotate_to_tss(pos_count1Am)\n",
    "\n",
    "annotated2Am = annotate_to_tss(pos_count2Am)\n",
    "\n",
    "annotated2m6Am = annotate_to_tss(pos_count2m6Am)\n",
    "\n",
    "annotatedAm = annotate_to_tss(pos_countAm)\n",
    "\n",
    "annotatedm6Am = annotate_to_tss(pos_countm6Am)\n"
   ]
  },
  {
   "cell_type": "code",
   "execution_count": 14,
   "id": "75c00455-2153-46c2-89d9-7857a949f99c",
   "metadata": {},
   "outputs": [],
   "source": [
    "np.save(\"cap1_ann_Am.npy\", annotated1Am)\n",
    "np.save(\"cap2_ann_Am.npy\", annotated2Am)\n",
    "np.save(\"amb_ann_Am.npy\", annotatedAm)\n",
    "\n",
    "np.save(\"cap1_ann_m6Am.npy\", annotated1m6Am)\n",
    "np.save(\"cap2_ann_m6Am.npy\", annotated2m6Am)\n",
    "np.save(\"amb_ann_m6Am.npy\", annotatedm6Am)"
   ]
  },
  {
   "cell_type": "code",
   "execution_count": null,
   "id": "ad811a75-54c9-47f2-b438-f2cc15756f7e",
   "metadata": {},
   "outputs": [],
   "source": []
  }
 ],
 "metadata": {
  "kernelspec": {
   "display_name": "Python 3 (ipykernel)",
   "language": "python",
   "name": "python3"
  },
  "language_info": {
   "codemirror_mode": {
    "name": "ipython",
    "version": 3
   },
   "file_extension": ".py",
   "mimetype": "text/x-python",
   "name": "python",
   "nbconvert_exporter": "python",
   "pygments_lexer": "ipython3",
   "version": "3.12.6"
  }
 },
 "nbformat": 4,
 "nbformat_minor": 5
}
