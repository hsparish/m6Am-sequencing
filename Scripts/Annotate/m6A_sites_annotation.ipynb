{
 "cells": [
  {
   "cell_type": "code",
   "execution_count": 119,
   "id": "aabfdf85-f165-4329-b7f8-b1d14ba4a84e",
   "metadata": {},
   "outputs": [],
   "source": [
    "import pysam\n",
    "import numpy as np\n",
    "import pandas as pd\n",
    "from tqdm import tqdm\n",
    "\n"
   ]
  },
  {
   "cell_type": "code",
   "execution_count": 120,
   "id": "0829a515-56cc-4bf6-b1e8-64b1f8396bd9",
   "metadata": {},
   "outputs": [
    {
     "name": "stdout",
     "output_type": "stream",
     "text": [
      "['chr17' '782279' '782280' '-' '1'\n",
      " 'CTCTGCGAGCAGCCATGATTCCCCCGCACGCAGCCGTCAC']\n"
     ]
    }
   ],
   "source": [
    "Am2 = np.load(\"cap2_ann_Am.npy\", allow_pickle = True)\n",
    "Am1 = np.load(\"cap1_ann_Am.npy\", allow_pickle = True)\n",
    "\n",
    "m6Am2 = np.load(\"cap2_ann_m6Am.npy\", allow_pickle = True)\n",
    "m6Am1 = np.load(\"cap1_ann_m6Am.npy\", allow_pickle = True)\n",
    "\n",
    "Am  = np.load(\"amb_ann_Am.npy\", allow_pickle = True)\n",
    "m6Am  = np.load(\"amb_ann_m6Am.npy\", allow_pickle = True)\n",
    "\n",
    "print(Am2[0])"
   ]
  },
  {
   "cell_type": "code",
   "execution_count": 121,
   "id": "65824785-8894-40b8-a4a8-71ef48bafd31",
   "metadata": {},
   "outputs": [],
   "source": [
    "from pyfaidx import Fasta\n",
    "file_path = \"/Volumes/Extreme SSD/HP/GCA_000001405.15_GRCh38_no_alt_analysis_set.fna\"\n",
    "fasta = Fasta(file_path)"
   ]
  },
  {
   "cell_type": "code",
   "execution_count": 122,
   "id": "19b2c17d-5e14-46c1-8a7d-bdf282e70e66",
   "metadata": {},
   "outputs": [],
   "source": [
    "#return the base at specified chromosome and position \n",
    "def chr_loc(chromosome, position):\n",
    "    try:\n",
    "        basepair = fasta[chromosome][position - 1]  # pyfaidx uses 0-based indexing internally\n",
    "        return basepair\n",
    "    except KeyError:\n",
    "        return f\"Chromosome {chromosome} not found in the FASTA file.\"\n",
    "    except IndexError:\n",
    "        return f\"Position {position} is out of range for chromosome {chromosome}.\""
   ]
  },
  {
   "cell_type": "code",
   "execution_count": 124,
   "id": "c9c4edaa-b315-4017-ac82-ff2062b123fb",
   "metadata": {},
   "outputs": [],
   "source": [
    "def A_m6A_array(tsn_mod_array):\n",
    "    m6A_array = []\n",
    "    A_array = []\n",
    "    for i in range(len(tsn_mod_array)):\n",
    "        for j in range(len(tsn_mod_array[i][5])):\n",
    "            if j>0 and tsn_mod_array[i][5][j] == 'A':\n",
    "                m6A_array.append(tsn_mod_array[i][0])\n",
    "                m6A_array.append(int(tsn_mod_array[i][1])+j+1)\n",
    "                m6A_array.append(int(tsn_mod_array[i][2])+j+1)\n",
    "                m6A_array.append(tsn_mod_array[i][3])\n",
    "                m6A_array.append(tsn_mod_array[i][4])\n",
    "            if j>0 and tsn_mod_array[i][5][j] == 'G' and chr_loc(str(tsn_mod_array[i][0]), int(tsn_mod_array[i][1])) == 'A':\n",
    "                A_array.append(tsn_mod_array[i][0])\n",
    "                A_array.append(int(tsn_mod_array[i][1])+j+1)\n",
    "                A_array.append(int(tsn_mod_array[i][2])+j+1)\n",
    "                A_array.append(tsn_mod_array[i][3])\n",
    "                A_array.append(j+1)  \n",
    "    m6A_array = np.array(m6A_array)\n",
    "    m6A_array = m6A_array.reshape((int(m6A_array.size/5), 5))\n",
    "    \n",
    "    A_array = np.array(A_array)\n",
    "    A_array = A_array.reshape((int(A_array.size/5), 5))\n",
    "    return m6A_array, A_array\n",
    "\n",
    "m6A_Am2, A_An2 = A_m6A_array(Am2)\n",
    "\n",
    "m6A_m6Am2, A_m6Am2 = A_m6A_array(m6Am2) \n",
    "\n",
    "m6A_Am1, A_Am1 = A_m6A_array(Am1) \n",
    "\n",
    "m6A_m6Am1, A_m6Am1 = A_m6A_array(m6Am1) \n"
   ]
  },
  {
   "cell_type": "code",
   "execution_count": 127,
   "id": "2c364a27-53ff-44fa-8941-cc48dee00e69",
   "metadata": {},
   "outputs": [],
   "source": [
    "def annotate(mod_array):\n",
    "    dict_sites = {}\n",
    "    i = 0\n",
    "    for elt in mod_array:\n",
    "        key = (elt[0], elt[1], elt[2], elt[3])\n",
    "        if key in dict_sites:\n",
    "            dict_sites[key][1] += 1  # Increment the count if the key already in dictionary\n",
    "        else:\n",
    "            dict_sites[key] = [elt, 1] # otherwise the count is 1\n",
    "\n",
    "    mod_sites = []\n",
    "    mod_ann = [(k, v) for k, v in dict_sites.items()]\n",
    "    for i in range(len(mod_ann)):\n",
    "        for j in range(5):\n",
    "            mod_sites.append(mod_ann[i][1][0][j])\n",
    "        mod_sites.append(mod_ann[i][1][1])\n",
    "\n",
    "    mod_sites = np.array(mod_sites)\n",
    "    mod_sites = mod_sites.reshape((int(mod_sites.size/6), 6))\n",
    "    return mod_sites\n",
    "m6A_Am1_sites = annotate(m6A_Am1)\n",
    "A_Am1_sites = annotate(A_Am1)\n",
    "m6A_m6Am1_sites = annotate(m6A_m6Am1)\n",
    "A_m6Am1_sites = annotate(A_m6Am1)\n",
    "m6A_Am2_sites = annotate(m6A_Am2)\n",
    "A_Am1_sites = annotate(A_Am2)\n",
    "m6A_m6Am2_sites = annotate(m6A_m6Am2)\n",
    "A_m6Am2_sites = annotate(A_m6Am2)\n",
    "\n"
   ]
  },
  {
   "cell_type": "code",
   "execution_count": 116,
   "id": "83339326-cdcc-4232-b8e0-10a9aaae2d2a",
   "metadata": {},
   "outputs": [
    {
     "name": "stdout",
     "output_type": "stream",
     "text": [
      "[['chr17' '782283' '782284' '-' '4' '1']\n",
      " ['chr17' '782285' '782286' '-' '6' '1']\n",
      " ['chr17' '782287' '782288' '-' '8' '1']\n",
      " ['chr17' '782290' '782291' '-' '11' '1']\n",
      " ['chr17' '782295' '782296' '-' '16' '1']\n",
      " ['chr17' '782302' '782303' '-' '23' '1']\n",
      " ['chr17' '782305' '782306' '-' '26' '1']\n",
      " ['chr17' '782309' '782310' '-' '30' '1']\n",
      " ['chr17' '782312' '782313' '-' '33' '1']\n",
      " ['chr17' '782315' '782316' '-' '36' '1']\n",
      " ['chr10' '988438' '988439' '+' '2' '1']\n",
      " ['chr10' '988443' '988444' '+' '7' '1']\n",
      " ['chr10' '988444' '988445' '+' '8' '1']\n",
      " ['chr10' '988445' '988446' '+' '9' '1']\n",
      " ['chr10' '988447' '988448' '+' '11' '1']\n",
      " ['chr10' '988449' '988450' '+' '13' '1']\n",
      " ['chr10' '988454' '988455' '+' '18' '1']\n",
      " ['chr10' '988460' '988461' '+' '24' '1']\n",
      " ['chr10' '988462' '988463' '+' '26' '1']\n",
      " ['chr10' '988464' '988465' '+' '28' '1']]\n",
      "[['chr16' '53627' '53628' '-' '3'\n",
      "  'TCTCGAACTCCGCAGGCTCCAACTCCCGGCAGCTCCCACT']\n",
      " ['chr11' '236988' '236989' '+' '2'\n",
      "  'AGCCATCCCCGCGGTGCTGACATCCCGGTTGTTCTTCTGT']\n",
      " ['chr11' '237009' '237010' '+' '3'\n",
      "  'ATCCCGGTTGTTCTTCTGTGCCGGGGGTCTTCCTGCTGTC']\n",
      " ['chr12' '389283' '389284' '-' '2'\n",
      "  'TCCTCCCGTTTGTTATTGTTTCTTGCAAGGCTTTTCCACT']\n",
      " ['chr11' '506767' '506768' '-' '1'\n",
      "  'TCGGCTGGCCCAGGATTGCTTGCGTAGCTCGCTGGAATCT']\n",
      " ['chr11' '507241' '507242' '-' '1'\n",
      "  'TCGACAACCCCACCCGCCAGTCAGCGGCGCGGGCGTGTTC']\n",
      " ['chr19' '572595' '572596' '+' '4'\n",
      "  'AGCGATTGGAGGTTGTAGGACCGGCGAGGAATAGGAATCA']\n",
      " ['chr18' '657680' '657681' '+' '1'\n",
      "  'ACTTGGCCTGCCTCCGTCCCGCCGCGCCACTTCGCCTGCC']\n",
      " ['chr4' '674255' '674256' '-' '1'\n",
      "  'TGAGCGGAGAGACCTGCACCGGTGGCACCATCTTGTCCCT']\n",
      " ['chr11' '747463' '747464' '+' '7'\n",
      "  'AGACCCCTCGGTCTTGCTATGTCGAGCTCACCCGTGAAGC']\n",
      " ['chr12' '752592' '752593' '+' '1'\n",
      "  'ATTTAGCGCGGAGAGTTTCCCGGGTGGACGCGGCTCCTCT']\n",
      " ['chr17' '782279' '782280' '-' '32'\n",
      "  'TCTGCGAGCAGCCATGATTCCCGCCGCACGCAGCCGTCAC']\n",
      " ['chr17' '782281' '782282' '-' '6'\n",
      "  'TGCGAGCAGCCATGATTCCCGCCGCACGCAGCCGTCACGC']\n",
      " ['chr17' '782371' '782372' '+' '2'\n",
      "  'AGGGAACATGGCGGCGCTGGTGAGACCCGCGAGGTTTGTC']\n",
      " ['chr16' '788650' '788651' '+' '1'\n",
      "  'AGGTTCGGAGCGGGAGCTCGGGCTCGCGGACGGTATGGAG']\n",
      " ['chr19' '797415' '797416' '+' '2'\n",
      "  'AGTCTATAACTCGGAGCCGTTGGGTCGGTTCCTGCTATTC']\n",
      " ['chr19' '797451' '797452' '+' '1'\n",
      "  'ATTCCGGCGCCTCCACTCCGTCCCCCGCGGGTCTGCTCTG']\n",
      " ['chr7' '816614' '816615' '+' '2'\n",
      "  'AGAGCGTCTTCTCGGGCCTGGGCGGCGCAGACAAGGCCTG']\n",
      " ['chr10' '988436' '988437' '+' '4'\n",
      "  'AGTTCCGGGAGTGCCAAGTACCCGCGTGCATACGGCTGCC']\n",
      " ['chr19' '1021122' '1021123' '-' '1'\n",
      "  'TCACGGCCTCCCGGCCGCCGCCGCCATCTTCCGCTTTCTC']]\n"
     ]
    }
   ],
   "source": [
    "np.save(\"A_m6Am1_ann.npy\", A_m6Am1_sites)\n",
    "np.save(\"m6A_m6Am1_ann.npy\", m6A_m6Am1_sites)\n",
    "np.save(\"A_Am1_ann.npy\", A_Am1_sites)\n",
    "np.save(\"m6A_Am1_ann.npy\", m6A_Am1_sites)\n",
    "\n",
    "np.save(\"A_m6Am2_ann.npy\", A_m6Am2_sites)\n",
    "np.save(\"m6A_m6Am2_ann.npy\", m6A_m6Am2_sites)\n",
    "np.save(\"A_Am2_ann.npy\", A_Am2_sites)\n",
    "np.save(\"m6A_Am2_ann.npy\", m6A_Am2_sites)\n"
   ]
  },
  {
   "cell_type": "code",
   "execution_count": null,
   "id": "463033c1-b552-466e-a311-4826e8e5d413",
   "metadata": {},
   "outputs": [],
   "source": []
  }
 ],
 "metadata": {
  "kernelspec": {
   "display_name": "Python 3 (ipykernel)",
   "language": "python",
   "name": "python3"
  },
  "language_info": {
   "codemirror_mode": {
    "name": "ipython",
    "version": 3
   },
   "file_extension": ".py",
   "mimetype": "text/x-python",
   "name": "python",
   "nbconvert_exporter": "python",
   "pygments_lexer": "ipython3",
   "version": "3.12.6"
  }
 },
 "nbformat": 4,
 "nbformat_minor": 5
}
