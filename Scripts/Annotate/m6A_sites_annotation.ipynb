{
 "cells": [
  {
   "cell_type": "code",
   "execution_count": 6,
   "id": "aabfdf85-f165-4329-b7f8-b1d14ba4a84e",
   "metadata": {},
   "outputs": [],
   "source": [
    "import pysam\n",
    "import numpy as np\n",
    "import pandas as pd\n",
    "from tqdm import tqdm\n",
    "\n"
   ]
  },
  {
   "cell_type": "code",
   "execution_count": 3,
   "id": "0829a515-56cc-4bf6-b1e8-64b1f8396bd9",
   "metadata": {},
   "outputs": [
    {
     "name": "stdout",
     "output_type": "stream",
     "text": [
      "['chr17' '782279' '782280' '-' 'GLOD4' '1'\n",
      " 'CTCTGCGAGCAGCCATGATTCCCCCGCACGCAGCCGTCAC']\n"
     ]
    }
   ],
   "source": [
    "Am2 = np.load(\"cap2_ann_Am.npy\", allow_pickle = True)\n",
    "Am1 = np.load(\"cap1_ann_Am.npy\", allow_pickle = True)\n",
    "\n",
    "m6Am2 = np.load(\"cap2_ann_m6Am.npy\", allow_pickle = True)\n",
    "m6Am1 = np.load(\"cap1_ann_m6Am.npy\", allow_pickle = True)\n",
    "\n",
    "Am  = np.load(\"amb_ann_Am.npy\", allow_pickle = True)\n",
    "m6Am  = np.load(\"amb_ann_m6Am.npy\", allow_pickle = True)\n"
   ]
  },
  {
   "cell_type": "code",
   "execution_count": 4,
   "id": "65824785-8894-40b8-a4a8-71ef48bafd31",
   "metadata": {},
   "outputs": [],
   "source": [
    "from pyfaidx import Fasta\n",
    "file_path = \"/Volumes/Extreme SSD/HP/GCA_000001405.15_GRCh38_no_alt_analysis_set.fna\"\n",
    "fasta = Fasta(file_path)"
   ]
  },
  {
   "cell_type": "code",
   "execution_count": 5,
   "id": "a581af9f-7f68-469a-822e-3f108aeafd89",
   "metadata": {},
   "outputs": [],
   "source": [
    "#return the base at specified chromosome and position \n",
    "from ipynb.fs.full. Important_Functions import *"
   ]
  },
  {
   "cell_type": "code",
   "execution_count": 6,
   "id": "c9c4edaa-b315-4017-ac82-ff2062b123fb",
   "metadata": {},
   "outputs": [
    {
     "name": "stdout",
     "output_type": "stream",
     "text": [
      "['chr17' '782287' '782288' '-' 'GLOD4' '8']\n"
     ]
    }
   ],
   "source": [
    "def A_m6A_array(tsn_mod_array):\n",
    "    m6A_array = []\n",
    "    A_array = []\n",
    "    for i in range(len(tsn_mod_array)):\n",
    "        for j in range(len(tsn_mod_array[i][6])):\n",
    "            if j>0 and tsn_mod_array[i][6][j] == 'A':\n",
    "                m6A_array.append(tsn_mod_array[i][0])\n",
    "                m6A_array.append(int(tsn_mod_array[i][1])+j+1)\n",
    "                m6A_array.append(int(tsn_mod_array[i][2])+j+1)\n",
    "                m6A_array.append(tsn_mod_array[i][3])\n",
    "                m6A_array.append(tsn_mod_array[i][4])\n",
    "                m6A_array.append(j+1)                  \n",
    "            if j>0 and tsn_mod_array[i][6][j] == 'G' and chr_loc(str(tsn_mod_array[i][0]), int(tsn_mod_array[i][1]), fasta) == 'A':\n",
    "                A_array.append(tsn_mod_array[i][0])\n",
    "                A_array.append(int(tsn_mod_array[i][1])+j+1)\n",
    "                A_array.append(int(tsn_mod_array[i][2])+j+1)\n",
    "                A_array.append(tsn_mod_array[i][3])\n",
    "                A_array.append(tsn_mod_array[i][4])\n",
    "                A_array.append(j+1)  \n",
    "    m6A_array = np.array(m6A_array)\n",
    "    m6A_array = m6A_array.reshape((int(m6A_array.size/6), 6))\n",
    "    \n",
    "    A_array = np.array(A_array)\n",
    "    A_array = A_array.reshape((int(A_array.size/6), 6))\n",
    "    return m6A_array, A_array\n",
    "\n",
    "m6A_Am2, A_Am2 = A_m6A_array(Am2)\n",
    "\n",
    "m6A_m6Am2, A_m6Am2 = A_m6A_array(m6Am2) \n",
    "\n",
    "m6A_Am1, A_Am1 = A_m6A_array(Am1) \n",
    "\n",
    "m6A_m6Am1, A_m6Am1 = A_m6A_array(m6Am1) \n"
   ]
  },
  {
   "cell_type": "code",
   "execution_count": 21,
   "id": "2c364a27-53ff-44fa-8941-cc48dee00e69",
   "metadata": {},
   "outputs": [],
   "source": [
    "def annotate(mod_array):\n",
    "    dict_sites = {}\n",
    "    i = 0\n",
    "    for elt in mod_array:\n",
    "        key = (elt[0], elt[1], elt[2], elt[3])\n",
    "        if key in dict_sites:\n",
    "            dict_sites[key][1] += 1  # Increment the count if the key already in dictionary\n",
    "        else:\n",
    "            dict_sites[key] = [elt, 1] # otherwise the count is 1\n",
    "\n",
    "    mod_sites = []\n",
    "    mod_ann = [(k, v) for k, v in dict_sites.items()]\n",
    "    for i in range(len(mod_ann)):\n",
    "        for j in range(6):\n",
    "            mod_sites.append(mod_ann[i][1][0][j])\n",
    "        mod_sites.append(mod_ann[i][1][1])\n",
    "\n",
    "    mod_sites = np.array(mod_sites)\n",
    "    mod_sites = mod_sites.reshape((int(mod_sites.size/7), 7))\n",
    "    return mod_sites\n",
    "# Array info: chromosome, start position, start position+1, strand, gene name, \n",
    "# proximity to start nucleotide, number of reads at that position (may have different starting nucleotide)\n",
    "m6A_Am1_sites = annotate(m6A_Am1)\n",
    "A_Am1_sites = annotate(A_Am1)\n",
    "m6A_m6Am1_sites = annotate(m6A_m6Am1)\n",
    "A_m6Am1_sites = annotate(A_m6Am1)\n",
    "m6A_Am2_sites = annotate(m6A_Am2)\n",
    "A_Am2_sites = annotate(A_Am2)\n",
    "m6A_m6Am2_sites = annotate(m6A_m6Am2)\n",
    "A_m6Am2_sites = annotate(A_m6Am2)\n"
   ]
  },
  {
   "cell_type": "code",
   "execution_count": 22,
   "id": "83339326-cdcc-4232-b8e0-10a9aaae2d2a",
   "metadata": {},
   "outputs": [],
   "source": [
    "np.save(\"A_m6Am1_ann.npy\", A_m6Am1_sites)\n",
    "np.save(\"m6A_m6Am1_ann.npy\", m6A_m6Am1_sites)\n",
    "np.save(\"A_Am1_ann.npy\", A_Am1_sites)\n",
    "np.save(\"m6A_Am1_ann.npy\", m6A_Am1_sites)\n",
    "\n",
    "np.save(\"A_m6Am2_ann.npy\", A_m6Am2_sites)\n",
    "np.save(\"m6A_m6Am2_ann.npy\", m6A_m6Am2_sites)\n",
    "np.save(\"A_Am2_ann.npy\", A_Am2_sites)\n",
    "np.save(\"m6A_Am2_ann.npy\", m6A_Am2_sites)\n"
   ]
  },
  {
   "cell_type": "code",
   "execution_count": null,
   "id": "36e68aa7-c973-4908-b246-9fd34fb4eab6",
   "metadata": {},
   "outputs": [],
   "source": []
  }
 ],
 "metadata": {
  "kernelspec": {
   "display_name": "Python 3 (ipykernel)",
   "language": "python",
   "name": "python3"
  },
  "language_info": {
   "codemirror_mode": {
    "name": "ipython",
    "version": 3
   },
   "file_extension": ".py",
   "mimetype": "text/x-python",
   "name": "python",
   "nbconvert_exporter": "python",
   "pygments_lexer": "ipython3",
   "version": "3.12.6"
  }
 },
 "nbformat": 4,
 "nbformat_minor": 5
}
