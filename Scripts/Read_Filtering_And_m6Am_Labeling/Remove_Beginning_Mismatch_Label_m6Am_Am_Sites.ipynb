{
 "cells": [
  {
   "cell_type": "code",
   "execution_count": 1,
   "id": "7cff0fdd-fe3f-46ed-977f-c84f4fd15f37",
   "metadata": {},
   "outputs": [],
   "source": [
    "import pysam\n",
    "import numpy as np\n",
    "from tqdm import tqdm\n",
    "\n",
    "samfile1 = pysam.AlignmentFile(\"/Volumes/Extreme SSD/HP/cap1_m6am_test.bam\", \"rb\")\n",
    "samfile2 = pysam.AlignmentFile(\"/Volumes/Extreme SSD/HP/cap2_m6am_test.bam\", \"rb\")"
   ]
  },
  {
   "cell_type": "code",
   "execution_count": 2,
   "id": "d6a1e8c6-491f-44ed-b398-2ea263eb69c1",
   "metadata": {},
   "outputs": [],
   "source": [
    "# Fetching all reads\n",
    "reads1 = []\n",
    "reads2 = []\n",
    "\n",
    "for i in range(24):\n",
    "    reads1.append([])\n",
    "    reads2.append([])\n",
    "    \n",
    "i = 1\n",
    "for i in range(1,25):\n",
    "    if i==23:\n",
    "        for read in samfile2.fetch('chrX'):\n",
    "            reads2[i-1].append(read) \n",
    "        for read in samfile1.fetch('chrX'):\n",
    "            reads1[i-1].append(read) \n",
    "    if i==24:\n",
    "        for read in samfile2.fetch('chrY'):\n",
    "            reads2[i-1].append(read) \n",
    "        for read in samfile1.fetch('chrY'):\n",
    "            reads1[i-1].append(read) \n",
    "    elif i!=23 and i!=24:\n",
    "        for read in samfile1.fetch(f'chr{i}'):\n",
    "            reads1[i-1].append(read)\n",
    "        for read in samfile2.fetch(f'chr{i}'):\n",
    "            reads2[i-1].append(read)\n",
    "    i+=1"
   ]
  },
  {
   "cell_type": "code",
   "execution_count": 3,
   "id": "0b2a1b50-6f27-4c8f-94e3-62abbe100900",
   "metadata": {},
   "outputs": [],
   "source": [
    "from pyfaidx import Fasta\n",
    "file_path = \"/Volumes/Extreme SSD/HP/GCA_000001405.15_GRCh38_no_alt_analysis_set.fna\"\n",
    "fasta = Fasta(file_path)"
   ]
  },
  {
   "cell_type": "code",
   "execution_count": 4,
   "id": "03aecd16-4730-44d2-9fef-3f8958cb6b14",
   "metadata": {},
   "outputs": [],
   "source": [
    "# Return the base at specified chromosome and position \n",
    "from ipynb.fs.full. Important_Functions import *"
   ]
  },
  {
   "cell_type": "code",
   "execution_count": 11,
   "id": "05ee2205-4004-4c16-91bb-6a761dee96a3",
   "metadata": {},
   "outputs": [],
   "source": [
    "# Separates reads into m6Am, Am, and other\n",
    "# For fwd reads\n",
    "def add_read_info_fwd(read, pos_count_array_m6Am, pos_count_array_Am, pos_count_array):                    \n",
    "    if read.query_sequence[0] == 'A':\n",
    "        if i == 22:\n",
    "            pos_count_array_m6Am.append(\"chrX\")\n",
    "        if i == 23:\n",
    "            pos_count_array_m6Am.append(\"chrY\")\n",
    "        else:\n",
    "            pos_count_array_m6Am.append(f'chr{i+1}')\n",
    "        pos_count_array_m6Am.append(read.reference_end-40)\n",
    "        pos_count_array_m6Am.append(read.reference_end-39)\n",
    "        pos_count_array_m6Am.append(\"+\")\n",
    "        pos_count_array_m6Am.append(str(read.query_name).split(\"_\")[-1] + read.query_sequence)   \n",
    "        pos_count_array_m6Am.append(str(read.query_sequence))\n",
    "    elif read.query_sequence[0] == 'G' and chr_loc(f'chr{i+1}', read.reference_end-39, fasta) == 'A':\n",
    "        if i == 22:\n",
    "            pos_count_array_Am.append(\"chrX\")\n",
    "        if i == 23:\n",
    "            pos_count_array_Am.append(\"chrY\")\n",
    "        else:\n",
    "            pos_count_array_Am.append(f'chr{i+1}')\n",
    "        pos_count_array_Am.append(read.reference_end-40)\n",
    "        pos_count_array_Am.append(read.reference_end-39)\n",
    "        pos_count_array_Am.append(\"+\")\n",
    "        pos_count_array_Am.append(str(read.query_name).split(\"_\")[-1] + read.query_sequence)\n",
    "        pos_count_array_Am.append(str(read.query_sequence))\n",
    "    else:\n",
    "        if i == 22:\n",
    "            pos_count_array.append(\"chrX\")\n",
    "        if i == 23:\n",
    "            pos_count_array.append(\"chrY\")\n",
    "        else:\n",
    "            pos_count_array.append(f'chr{i+1}')\n",
    "        pos_count_array.append(read.reference_end-40)\n",
    "        pos_count_array.append(read.reference_end-39)\n",
    "        pos_count_array.append(\"+\")\n",
    "        pos_count_array.append(str(read.query_name).split(\"_\")[-1] + read.query_sequence) \n",
    "        pos_count_array.append(str(read.query_sequence))"
   ]
  },
  {
   "cell_type": "code",
   "execution_count": 12,
   "id": "be9a9dbf-4c63-4c6d-ac93-c4a844c9861f",
   "metadata": {},
   "outputs": [],
   "source": [
    "# For rev reads\n",
    "def add_read_info_rev(read, pos_count_array_m6Am, pos_count_array_Am, pos_count_array):\n",
    "    if read.query_sequence[0] == 'T':\n",
    "        if i == 22:\n",
    "            pos_count_array_m6Am.append(\"chrX\")\n",
    "        if i == 23:\n",
    "            pos_count_array_m6Am.append(\"chrY\")\n",
    "        else:\n",
    "            pos_count_array_m6Am.append(f'chr{i+1}')\n",
    "        pos_count_array_m6Am.append(read.reference_end-1)\n",
    "        pos_count_array_m6Am.append(read.reference_end)\n",
    "        pos_count_array_m6Am.append(\"-\")\n",
    "        pos_count_array_m6Am.append(str(read.query_name).split(\"_\")[-1] + read.query_sequence)   \n",
    "        pos_count_array_m6Am.append(str(read.query_sequence))                    \n",
    "    elif read.query_sequence[39] == 'C' and chr_loc(f'chr{i+1}', read.reference_end-39, fasta) == 'T':\n",
    "        if i == 22:\n",
    "            pos_count_array_Am.append(\"chrX\")\n",
    "        if i == 23:\n",
    "            pos_count_array_Am.append(\"chrY\")\n",
    "        else:\n",
    "            pos_count_array_Am.append(f'chr{i+1}')\n",
    "        pos_count_array_Am.append(read.reference_end-1)\n",
    "        pos_count_array_Am.append(read.reference_end)\n",
    "        pos_count_array_Am.append(\"-\")\n",
    "        pos_count_array_Am.append(str(read.query_name).split(\"_\")[-1] + read.query_sequence)\n",
    "        pos_count_array_Am.append(str(read.query_sequence))   \n",
    "    else:\n",
    "        if i == 22:\n",
    "            pos_count_array.append(\"chrX\")\n",
    "        if i == 23:\n",
    "            pos_count_array.append(\"chrY\")\n",
    "        else:\n",
    "            pos_count_array.append(f'chr{i+1}')\n",
    "        pos_count_array.append(read.reference_end-1)\n",
    "        pos_count_array.append(read.reference_end)\n",
    "        pos_count_array.append(\"-\")\n",
    "        pos_count_array.append(str(read.query_name).split(\"_\")[-1] + read.query_sequence)\n",
    "        pos_count_array.append(str(read.query_sequence))   "
   ]
  },
  {
   "cell_type": "code",
   "execution_count": 13,
   "id": "dd534b22-da06-4fd3-9183-f5806e7386b8",
   "metadata": {},
   "outputs": [
    {
     "name": "stderr",
     "output_type": "stream",
     "text": [
      "100%|███████████████████████████████████████████| 24/24 [00:04<00:00,  4.91it/s]\n"
     ]
    }
   ],
   "source": [
    "# Removes reads in which base pair mismatches occur at the first three positions for cap2 and the first two positions for cap1\n",
    "\n",
    "pos_count1 = []\n",
    "pos_count1_m6Am = []\n",
    "pos_count1_Am = []\n",
    "pos_count2 = []\n",
    "pos_count2_m6Am = []\n",
    "pos_count2_Am = []\n",
    "\n",
    "for i in tqdm(range(24)):\n",
    "    for j in range(len(reads1[i])):\n",
    "        if reads1[i][j].is_forward==True:\n",
    "            if reads1[i][j].query_sequence[0] == chr_loc(f'chr{i+1}', reads1[i][j].reference_end-39, fasta) or (reads1[i][j].query_sequence[0] == 'G' and chr_loc(f'chr{i+1}', reads1[i][j].reference_end-39, fasta) == 'A'):\n",
    "                if reads1[i][j].query_sequence[1] == chr_loc(f'chr{i+1}', reads1[i][j].reference_end-38, fasta) or (reads1[i][j].query_sequence[1] == 'G' and chr_loc(f'chr{i+1}', reads1[i][j].reference_end-38, fasta) == 'A'): \n",
    "                    add_read_info_fwd(reads1[i][j], pos_count1_m6Am, pos_count1_Am, pos_count1)\n",
    "                    \n",
    "        if reads1[i][j].is_forward==False:\n",
    "            if reads1[i][j].query_sequence[39] == chr_loc(f'chr{i+1}', reads1[i][j].reference_end, fasta) or (reads1[i][j].query_sequence[39] == 'C' and chr_loc(f'chr{i+1}', reads1[i][j].reference_end, fasta) == 'T'):\n",
    "                if reads1[i][j].query_sequence[38] == chr_loc(f'chr{i+1}', reads1[i][j].reference_end-1, fasta) or (reads1[i][j].query_sequence[38] == 'C' and chr_loc(f'chr{i+1}', reads1[i][j].reference_end-1, fasta) == 'T'): \n",
    "                    add_read_info_rev(reads1[i][j], pos_count1_m6Am, pos_count1_Am, pos_count1)\n",
    "\n",
    "    for j in range(len(reads2[i])):   \n",
    "        if reads2[i][j].is_forward==True:\n",
    "            if reads2[i][j].query_sequence[0] == chr_loc(f'chr{i+1}', reads2[i][j].reference_end-39, fasta) or (reads2[i][j].query_sequence[0] == 'G' and chr_loc(f'chr{i+1}', reads2[i][j].reference_end-39, fasta) == 'A'):\n",
    "                if reads2[i][j].query_sequence[1] == chr_loc(f'chr{i+1}', reads2[i][j].reference_end-38, fasta) or (reads2[i][j].query_sequence[1] == 'G' and chr_loc(f'chr{i+1}', reads2[i][j].reference_end-38, fasta) == 'A'):\n",
    "                    if reads2[i][j].query_sequence[2] == chr_loc(f'chr{i+1}', reads2[i][j].reference_end-37, fasta) or (reads2[i][j].query_sequence[2] == 'G' and chr_loc(f'chr{i+1}', reads2[i][j].reference_end-37, fasta) == 'A'):\n",
    "                        add_read_info_fwd(reads2[i][j], pos_count2_m6Am, pos_count2_Am, pos_count2)\n",
    "        if reads2[i][j].is_forward==False:\n",
    "            if reads2[i][j].query_sequence[39] == chr_loc(f'chr{i+1}', reads2[i][j].reference_end, fasta) or (reads2[i][j].query_sequence[39] == 'C' and chr_loc(f'chr{i+1}', reads2[i][j].reference_end, fasta) == 'T'):\n",
    "                if reads2[i][j].query_sequence[38] == chr_loc(f'chr{i+1}', reads2[i][j].reference_end-1, fasta) or (reads2[i][j].query_sequence[38] == 'C' and chr_loc(f'chr{i+1}', reads2[i][j].reference_end-1, fasta) == 'T'):\n",
    "                    if reads2[i][j].query_sequence[37] == chr_loc(f'chr{i+1}', reads2[i][j].reference_end-2, fasta) or (reads2[i][j].query_sequence[37] == 'C' and chr_loc(f'chr{i+1}', reads2[i][j].reference_end-2, fasta) == 'T'):\n",
    "                        add_read_info_rev(reads2[i][j], pos_count2_m6Am, pos_count2_Am, pos_count2)"
   ]
  },
  {
   "cell_type": "code",
   "execution_count": 14,
   "id": "beea4ff5-1e9d-4cd1-9fef-88a5dc98d1d0",
   "metadata": {},
   "outputs": [],
   "source": [
    "cap1Am = np.array(pos_count1_Am, dtype = 'object')\n",
    "cap1m6Am = np.array(pos_count1_m6Am, dtype = 'object')\n",
    "\n",
    "cap2Am = np.array(pos_count2_Am, dtype = 'object')\n",
    "cap2m6Am = np.array(pos_count2_m6Am, dtype = 'object')\n",
    "      \n",
    "cap1Am = cap1Am.reshape((int(cap1Am.size/6), 6))\n",
    "cap2Am = cap2Am.reshape((int(cap2Am.size/6), 6))\n",
    "\n",
    "cap1m6Am = cap1m6Am.reshape((int(cap1m6Am.size/6), 6))\n",
    "cap2m6Am = cap2m6Am.reshape((int(cap2m6Am.size/6), 6))"
   ]
  },
  {
   "cell_type": "code",
   "execution_count": 28,
   "id": "9b0ebd86-7d15-4b92-869d-704d9f89104e",
   "metadata": {},
   "outputs": [],
   "source": [
    "np.save(\"cap1_Am_nm.npy\", cap1Am)\n",
    "np.save(\"cap2_Am_nm.npy\", cap2Am)\n",
    "np.save(\"cap1_m6Am_nm.npy\", cap1m6Am)\n",
    "np.save(\"cap2_m6Am_nm.npy\", cap2m6Am)"
   ]
  },
  {
   "cell_type": "code",
   "execution_count": null,
   "id": "b56369ed-5c34-4f83-9ae0-0606d69c6d37",
   "metadata": {},
   "outputs": [],
   "source": []
  }
 ],
 "metadata": {
  "kernelspec": {
   "display_name": "Python 3 (ipykernel)",
   "language": "python",
   "name": "python3"
  },
  "language_info": {
   "codemirror_mode": {
    "name": "ipython",
    "version": 3
   },
   "file_extension": ".py",
   "mimetype": "text/x-python",
   "name": "python",
   "nbconvert_exporter": "python",
   "pygments_lexer": "ipython3",
   "version": "3.12.6"
  }
 },
 "nbformat": 4,
 "nbformat_minor": 5
}
